{
 "cells": [
  {
   "cell_type": "markdown",
   "metadata": {},
   "source": [
    "### Blood Donation Dataset"
   ]
  },
  {
   "cell_type": "code",
   "execution_count": 1,
   "metadata": {},
   "outputs": [],
   "source": [
    "# Load the library used for this project\n",
    "import ucimlrepo"
   ]
  },
  {
   "cell_type": "code",
   "execution_count": 2,
   "metadata": {},
   "outputs": [],
   "source": [
    "from ucimlrepo import fetch_ucirepo"
   ]
  },
  {
   "cell_type": "code",
   "execution_count": 4,
   "metadata": {},
   "outputs": [],
   "source": [
    "# Fetch the dataset by unique identifier\n",
    "blood = fetch_ucirepo(id=176)"
   ]
  },
  {
   "cell_type": "code",
   "execution_count": 5,
   "metadata": {},
   "outputs": [],
   "source": [
    "# The library has already converted the dataset to a Pandas DataFrame\n",
    "X = blood.data.features\n",
    "y = blood.data.target"
   ]
  },
  {
   "cell_type": "code",
   "execution_count": 6,
   "metadata": {},
   "outputs": [
    {
     "name": "stdout",
     "output_type": "stream",
     "text": [
      "{'uci_id': 176, 'name': 'Blood Transfusion Service Center', 'repository_url': 'https://archive.ics.uci.edu/dataset/176/blood+transfusion+service+center', 'data_url': 'https://archive.ics.uci.edu/static/public/176/data.csv', 'abstract': 'Data taken from the Blood Transfusion Service Center in Hsin-Chu City in Taiwan -- this is a classification problem. ', 'area': 'Business', 'tasks': ['Classification'], 'characteristics': ['Multivariate'], 'num_instances': 748, 'num_features': 4, 'feature_types': ['Real'], 'demographics': [], 'target_col': ['Donated_Blood'], 'index_col': None, 'has_missing_values': 'no', 'missing_values_symbol': None, 'year_of_dataset_creation': 2008, 'last_updated': 'Sat Mar 16 2024', 'dataset_doi': '10.24432/C5GS39', 'creators': ['I-Cheng Yeh'], 'intro_paper': {'title': 'Knowledge discovery on RFM model using Bernoulli sequence', 'authors': 'I. Yeh, K. Yang, Tao-Ming Ting', 'published_in': 'Expert systems with applications', 'year': 2009, 'url': 'https://www.semanticscholar.org/paper/c8dc14c5758d3d2fdd28bdb9c833f88b939d8dff', 'doi': '10.1016/j.eswa.2008.07.018'}, 'additional_info': {'summary': 'To demonstrate the RFMTC marketing model (a modified version of RFM), this study adopted the donor database of Blood Transfusion Service Center in Hsin-Chu City in Taiwan. The center passes their blood transfusion service bus to one university in Hsin-Chu City to gather blood donated about every three months. To build a FRMTC model, we selected 748 donors at random from the donor database. These 748 donor data, each one included R (Recency - months since last donation), F (Frequency - total number of donation), M (Monetary - total blood donated in c.c.), T (Time - months since first donation), and a binary variable representing whether he/she donated blood in March 2007 (1 stand for donating blood; 0 stands for not donating blood). ', 'purpose': None, 'funded_by': None, 'instances_represent': None, 'recommended_data_splits': None, 'sensitive_data': None, 'preprocessing_description': None, 'variable_info': 'Given is the variable name, variable type, the measurement unit and a brief description. The \"Blood Transfusion Service Center\" is a classification problem. The order of this listing corresponds to the order of numerals along the rows of the database. \\r\\n\\r\\nR (Recency - months since last donation), \\r\\nF (Frequency - total number of donation), \\r\\nM (Monetary - total blood donated in c.c.), \\r\\nT (Time - months since first donation), and \\r\\na binary variable representing whether he/she donated blood in March 2007 (1 stand for donating blood; 0 stands for not donating blood). \\r\\n\\r\\n\\r\\nTable 1 shows the descriptive statistics of the data. We selected 500 data at random as the training set, and the rest 248 as the testing set.\\r\\n\\r\\nTable 1. Descriptive statistics of the data\\r\\n\\r\\nVariable\\tData Type\\tMeasurement\\tDescription\\tmin\\tmax\\tmean\\tstd\\r\\nRecency \\tquantitative\\tMonths\\tInput\\t0.03\\t74.4\\t9.74\\t8.07\\r\\nFrequency \\tquantitative\\tTimes\\tInput\\t1\\t50\\t5.51\\t5.84\\r\\nMonetary\\tquantitative\\tc.c. blood\\tInput\\t250\\t12500\\t1378.68\\t1459.83\\r\\nTime \\tquantitative\\tMonths\\tInput\\t2.27\\t98.3\\t34.42\\t24.32\\r\\nWhether he/she donated blood in March 2007\\tbinary\\t1=yes 0=no\\tOutput\\t0\\t1\\t1 (24%) 0 (76%)\\r\\n', 'citation': None}}\n"
     ]
    }
   ],
   "source": [
    "# Display the metadata of the dataset\n",
    "print(blood.metadata)"
   ]
  },
  {
   "cell_type": "code",
   "execution_count": 7,
   "metadata": {},
   "outputs": [
    {
     "name": "stdout",
     "output_type": "stream",
     "text": [
      "            name     role     type demographic  \\\n",
      "0        Recency  Feature  Integer        None   \n",
      "1      Frequency  Feature  Integer        None   \n",
      "2       Monetary  Feature  Integer        None   \n",
      "3           Time  Feature  Integer        None   \n",
      "4  Donated_Blood   Target   Binary        None   \n",
      "\n",
      "                                         description units missing_values  \n",
      "0                         months since last donation  None             no  \n",
      "1                          total number of donations  None             no  \n",
      "2                        total blood donated in c.c.  None             no  \n",
      "3                        months since first donation  None             no  \n",
      "4  whether he/she donated blood in March 2007 (1 ...  None             no  \n"
     ]
    }
   ],
   "source": [
    "# Variable information\n",
    "print(blood.variables)"
   ]
  },
  {
   "cell_type": "code",
   "execution_count": 8,
   "metadata": {},
   "outputs": [
    {
     "name": "stdout",
     "output_type": "stream",
     "text": [
      "     Recency  Frequency  Monetary  Time  Donated_Blood\n",
      "0          2         50     12500    98              1\n",
      "1          0         13      3250    28              1\n",
      "2          1         16      4000    35              1\n",
      "3          2         20      5000    45              1\n",
      "4          1         24      6000    77              0\n",
      "..       ...        ...       ...   ...            ...\n",
      "743       23          2       500    38              0\n",
      "744       21          2       500    52              0\n",
      "745       23          3       750    62              0\n",
      "746       39          1       250    39              0\n",
      "747       72          1       250    72              0\n",
      "\n",
      "[748 rows x 5 columns]\n"
     ]
    }
   ],
   "source": [
    "# Display the full dataset\n",
    "print(blood.data.original)"
   ]
  },
  {
   "cell_type": "code",
   "execution_count": 9,
   "metadata": {},
   "outputs": [
    {
     "name": "stdout",
     "output_type": "stream",
     "text": [
      "Index(['Recency', 'Frequency', 'Monetary', 'Time', 'Donated_Blood'], dtype='object')\n"
     ]
    }
   ],
   "source": [
    "# Display the header row of the dataset\n",
    "print(blood.data.headers)"
   ]
  },
  {
   "cell_type": "code",
   "execution_count": 10,
   "metadata": {},
   "outputs": [
    {
     "name": "stdout",
     "output_type": "stream",
     "text": [
      "Blood Transfusion Service Center\n"
     ]
    }
   ],
   "source": [
    "# Name of the dataset\n",
    "print(blood.metadata.name)"
   ]
  },
  {
   "cell_type": "code",
   "execution_count": 11,
   "metadata": {},
   "outputs": [
    {
     "name": "stdout",
     "output_type": "stream",
     "text": [
      "176\n"
     ]
    }
   ],
   "source": [
    "# Get the unique identifier for the blood donation dataset\n",
    "print(blood.metadata.uci_id)"
   ]
  },
  {
   "cell_type": "code",
   "execution_count": 12,
   "metadata": {},
   "outputs": [
    {
     "name": "stdout",
     "output_type": "stream",
     "text": [
      "Business\n"
     ]
    }
   ],
   "source": [
    "# Get the tag for the blood donation dataset\n",
    "print(blood.metadata.area)"
   ]
  },
  {
   "cell_type": "code",
   "execution_count": 13,
   "metadata": {},
   "outputs": [
    {
     "name": "stdout",
     "output_type": "stream",
     "text": [
      "['Multivariate']\n"
     ]
    }
   ],
   "source": [
    "# Get the characteristics of the blood donation dataset\n",
    "print(blood.metadata.characteristics)"
   ]
  },
  {
   "cell_type": "code",
   "execution_count": 14,
   "metadata": {},
   "outputs": [
    {
     "name": "stdout",
     "output_type": "stream",
     "text": [
      "748\n"
     ]
    }
   ],
   "source": [
    "# Get the number of instances in the dataset\n",
    "print(blood.metadata.num_instances)"
   ]
  },
  {
   "cell_type": "code",
   "execution_count": 15,
   "metadata": {},
   "outputs": [
    {
     "name": "stdout",
     "output_type": "stream",
     "text": [
      "4\n"
     ]
    }
   ],
   "source": [
    "# Get the number of the features in the dataset\n",
    "print(blood.metadata.num_features)"
   ]
  },
  {
   "cell_type": "code",
   "execution_count": 16,
   "metadata": {},
   "outputs": [
    {
     "name": "stdout",
     "output_type": "stream",
     "text": [
      "['Donated_Blood']\n"
     ]
    }
   ],
   "source": [
    "# Get the target variable\n",
    "print(blood.metadata.target_col)"
   ]
  },
  {
   "cell_type": "code",
   "execution_count": 17,
   "metadata": {},
   "outputs": [
    {
     "name": "stdout",
     "output_type": "stream",
     "text": [
      "no\n"
     ]
    }
   ],
   "source": [
    "# Find out of they are any missing values\n",
    "print(blood.metadata.has_missing_values)"
   ]
  },
  {
   "cell_type": "code",
   "execution_count": 18,
   "metadata": {},
   "outputs": [
    {
     "name": "stdout",
     "output_type": "stream",
     "text": [
      "2008\n"
     ]
    }
   ],
   "source": [
    "# when was this dataset curated\n",
    "print(blood.metadata.year_of_dataset_creation)"
   ]
  },
  {
   "cell_type": "code",
   "execution_count": 19,
   "metadata": {},
   "outputs": [
    {
     "name": "stdout",
     "output_type": "stream",
     "text": [
      "{'title': 'Knowledge discovery on RFM model using Bernoulli sequence', 'authors': 'I. Yeh, K. Yang, Tao-Ming Ting', 'published_in': 'Expert systems with applications', 'year': 2009, 'url': 'https://www.semanticscholar.org/paper/c8dc14c5758d3d2fdd28bdb9c833f88b939d8dff', 'doi': '10.1016/j.eswa.2008.07.018'}\n"
     ]
    }
   ],
   "source": [
    "# Research paper accompanying this dataset\n",
    "print(blood.metadata.intro_paper)"
   ]
  },
  {
   "cell_type": "code",
   "execution_count": 20,
   "metadata": {},
   "outputs": [
    {
     "name": "stdout",
     "output_type": "stream",
     "text": [
      "https://archive.ics.uci.edu/static/public/176/data.csv\n"
     ]
    }
   ],
   "source": [
    "# URL to get CSV file\n",
    "print(blood.metadata.data_url)"
   ]
  },
  {
   "cell_type": "code",
   "execution_count": 21,
   "metadata": {},
   "outputs": [
    {
     "name": "stdout",
     "output_type": "stream",
     "text": [
      "To demonstrate the RFMTC marketing model (a modified version of RFM), this study adopted the donor database of Blood Transfusion Service Center in Hsin-Chu City in Taiwan. The center passes their blood transfusion service bus to one university in Hsin-Chu City to gather blood donated about every three months. To build a FRMTC model, we selected 748 donors at random from the donor database. These 748 donor data, each one included R (Recency - months since last donation), F (Frequency - total number of donation), M (Monetary - total blood donated in c.c.), T (Time - months since first donation), and a binary variable representing whether he/she donated blood in March 2007 (1 stand for donating blood; 0 stands for not donating blood). \n"
     ]
    }
   ],
   "source": [
    "# Any other facets of the data\n",
    "print(blood.metadata.additional_info.summary)"
   ]
  },
  {
   "cell_type": "markdown",
   "metadata": {},
   "source": [
    "### Split dataset"
   ]
  },
  {
   "cell_type": "code",
   "execution_count": 22,
   "metadata": {},
   "outputs": [],
   "source": [
    "from sklearn.model_selection import train_test_split"
   ]
  },
  {
   "cell_type": "code",
   "execution_count": null,
   "metadata": {},
   "outputs": [],
   "source": [
    "# prompt: split the blood data objects above it a train & test split\n",
    "\n",
    "X_train, X_test, y_train, y_test = train_test_split(X, y, test_size=0.25)"
   ]
  },
  {
   "cell_type": "markdown",
   "metadata": {},
   "source": [
    "Last cell produces an error; which upon further inspection; it occurs when I was unpacking the `X & y` variables. The `y` variable receives a [NoneType] Object, since the UCIMLREPO returns a None for that entity."
   ]
  },
  {
   "cell_type": "markdown",
   "metadata": {},
   "source": [
    "This now means, I must fetcht the data directly from the UCI ML Repo. Instead of using the predefined DataFrame.\n",
    "\n",
    "---"
   ]
  }
 ],
 "metadata": {
  "kernelspec": {
   "display_name": "base",
   "language": "python",
   "name": "python3"
  },
  "language_info": {
   "codemirror_mode": {
    "name": "ipython",
    "version": 3
   },
   "file_extension": ".py",
   "mimetype": "text/x-python",
   "name": "python",
   "nbconvert_exporter": "python",
   "pygments_lexer": "ipython3",
   "version": "3.9.13"
  }
 },
 "nbformat": 4,
 "nbformat_minor": 2
}
